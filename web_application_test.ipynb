{
 "cells": [
  {
   "cell_type": "code",
   "execution_count": 77,
   "metadata": {
    "collapsed": false
   },
   "outputs": [
    {
     "name": "stdout",
     "output_type": "stream",
     "text": [
      "{'data': 200}\n"
     ]
    }
   ],
   "source": [
    "url =\"http://0.0.0.0:8889/webapplication\"\n",
    "import requests\n",
    "import urllib\n",
    "import json\n",
    "data =json.dumps({'x':100,'y':100})\n",
    "req  = requests.session().post(url,data =data)\n",
    "print req.text"
   ]
  },
  {
   "cell_type": "markdown",
   "metadata": {
    "collapsed": false
   },
   "source": [
    " - 传入的字典如果不用json.dumps 处理，就会被转化为get方式那种&字符串\n",
    " - req 请求的return 必须是一个dict"
   ]
  }
 ],
 "metadata": {
  "kernelspec": {
   "display_name": "Python 2",
   "language": "python",
   "name": "python2"
  },
  "language_info": {
   "codemirror_mode": {
    "name": "ipython",
    "version": 2
   },
   "file_extension": ".py",
   "mimetype": "text/x-python",
   "name": "python",
   "nbconvert_exporter": "python",
   "pygments_lexer": "ipython2",
   "version": "2.7.12"
  }
 },
 "nbformat": 4,
 "nbformat_minor": 0
}
