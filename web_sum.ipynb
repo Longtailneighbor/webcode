{
 "cells": [
  {
   "cell_type": "markdown",
   "metadata": {},
   "source": [
    "- 载入信息"
   ]
  },
  {
   "cell_type": "code",
   "execution_count": 65,
   "metadata": {
    "collapsed": true
   },
   "outputs": [],
   "source": [
    "import web\n",
    "import traceback\n",
    "import json"
   ]
  },
  {
   "cell_type": "markdown",
   "metadata": {},
   "source": [
    "- 计算逻辑类"
   ]
  },
  {
   "cell_type": "code",
   "execution_count": 53,
   "metadata": {
    "collapsed": true
   },
   "outputs": [],
   "source": [
    "class compute():\n",
    "    def __init__(self,x,y):\n",
    "        self.x = x\n",
    "        self.y = y\n",
    "    def SUM(self):\n",
    "        return self.x+self.y"
   ]
  },
  {
   "cell_type": "code",
   "execution_count": 17,
   "metadata": {
    "collapsed": false,
    "scrolled": true
   },
   "outputs": [],
   "source": [
    "# compute(10,20).SUM()"
   ]
  },
  {
   "cell_type": "markdown",
   "metadata": {},
   "source": [
    "- web application 类"
   ]
  },
  {
   "cell_type": "code",
   "execution_count": 66,
   "metadata": {
    "collapsed": true
   },
   "outputs": [],
   "source": [
    "class webapplication():\n",
    "    def POST(self):\n",
    "        try:\n",
    "            #获取post过来的data\n",
    "            data =web.data()\n",
    "            #将dict字符串loads成字典\n",
    "            data = json.loads(data)\n",
    "            #返回的必须dict字典\n",
    "            return {'data':compute(data.get('x'),data.get('y')).SUM()}\n",
    "        except:\n",
    "            return traceback"
   ]
  },
  {
   "cell_type": "markdown",
   "metadata": {},
   "source": [
    " - web.data()获取网络传输数据\n",
    " - json.loads() 将dict字符串转为字典\n",
    " - 返回结果必须dict值"
   ]
  },
  {
   "cell_type": "markdown",
   "metadata": {},
   "source": [
    " -启动代码类"
   ]
  },
  {
   "cell_type": "code",
   "execution_count": 62,
   "metadata": {
    "collapsed": true
   },
   "outputs": [],
   "source": [
    "urls = ('/webapplication',webapplication) #设置启动路劲"
   ]
  },
  {
   "cell_type": "markdown",
   "metadata": {},
   "source": [
    "指点路径-函数映射关系"
   ]
  },
  {
   "cell_type": "code",
   "execution_count": null,
   "metadata": {
    "collapsed": false
   },
   "outputs": [],
   "source": [
    "if __name__ == '__main__':\n",
    "    app =web.application(urls,globals(),autoreload = True)\n",
    "    app.run()"
   ]
  },
  {
   "cell_type": "code",
   "execution_count": 64,
   "metadata": {
    "collapsed": true
   },
   "outputs": [],
   "source": []
  },
  {
   "cell_type": "markdown",
   "metadata": {},
   "source": [
    " - 访问测试"
   ]
  }
 ],
 "metadata": {
  "kernelspec": {
   "display_name": "Python 2",
   "language": "python",
   "name": "python2"
  },
  "language_info": {
   "codemirror_mode": {
    "name": "ipython",
    "version": 2
   },
   "file_extension": ".py",
   "mimetype": "text/x-python",
   "name": "python",
   "nbconvert_exporter": "python",
   "pygments_lexer": "ipython2",
   "version": "2.7.12"
  }
 },
 "nbformat": 4,
 "nbformat_minor": 0
}
