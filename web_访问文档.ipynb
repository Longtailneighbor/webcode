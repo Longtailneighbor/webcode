{
 "cells": [
  {
   "cell_type": "markdown",
   "metadata": {},
   "source": [
    "# web访问服务\n",
    " - [基于get的web-服务器部分](#基于get的web-服务器部分)\n",
    " - [基于post的web -服务器部分sum.py](#基于post的web-服务器部分)\n",
    " - [web服务的启动](#web服务的启动)\n",
    " - [web服务测试](#web服务测试)(前提条件是web服务要被启动，即第三点要被执行)\n",
    " - [more source](#more source)\n",
    " "
   ]
  },
  {
   "cell_type": "markdown",
   "metadata": {},
   "source": [
    "## 基于get的web-服务器部分"
   ]
  },
  {
   "cell_type": "code",
   "execution_count": 30,
   "metadata": {
    "collapsed": false
   },
   "outputs": [
    {
     "data": {
      "text/plain": [
       "'hello world'"
      ]
     },
     "execution_count": 30,
     "metadata": {},
     "output_type": "execute_result"
    }
   ],
   "source": [
    "urls = ('/hello','hello')\n",
    "app =  web.application(urls,globals())\n",
    "class hello():\n",
    "    def GET(self):\n",
    "        return \"hello world\"\n",
    "app.request('/hello').data"
   ]
  },
  {
   "cell_type": "markdown",
   "metadata": {},
   "source": [
    "- urls 正则表达网页地址/hello 指定调用hello函数\n",
    "- gloabs() 的意思是将urls转化web中可以使用的外部类，这写法有些奇葩，不过不愧是胶水语言\n",
    "- request('/hello')是就在这里模拟请求"
   ]
  },
  {
   "cell_type": "code",
   "execution_count": null,
   "metadata": {
    "collapsed": true
   },
   "outputs": [],
   "source": []
  },
  {
   "cell_type": "markdown",
   "metadata": {},
   "source": [
    "## 基于post的web-服务器部分"
   ]
  },
  {
   "cell_type": "markdown",
   "metadata": {},
   "source": [
    "- 载入信息"
   ]
  },
  {
   "cell_type": "code",
   "execution_count": 32,
   "metadata": {
    "collapsed": true
   },
   "outputs": [],
   "source": [
    "import web\n",
    "import traceback\n",
    "import json\n",
    "web.config.debug = False"
   ]
  },
  {
   "cell_type": "markdown",
   "metadata": {},
   "source": [
    "- 计算逻辑类"
   ]
  },
  {
   "cell_type": "code",
   "execution_count": 3,
   "metadata": {
    "collapsed": true
   },
   "outputs": [],
   "source": [
    "class compute():\n",
    "    def __init__(self,x,y):\n",
    "        self.x = x\n",
    "        self.y = y\n",
    "    def SUM(self):\n",
    "        return self.x+self.y"
   ]
  },
  {
   "cell_type": "markdown",
   "metadata": {},
   "source": [
    " - 网络传输数据清洗"
   ]
  },
  {
   "cell_type": "code",
   "execution_count": 17,
   "metadata": {
    "collapsed": false,
    "scrolled": true
   },
   "outputs": [],
   "source": [
    "# compute(10,20).SUM()"
   ]
  },
  {
   "cell_type": "markdown",
   "metadata": {},
   "source": [
    "- web application 类"
   ]
  },
  {
   "cell_type": "code",
   "execution_count": 4,
   "metadata": {
    "collapsed": true
   },
   "outputs": [],
   "source": [
    "class webapplication():\n",
    "    def POST(self):\n",
    "        try:\n",
    "            data =web.data()\n",
    "            data = json.loads(data)\n",
    "            return {'data':compute(data.get('x'),data.get('y'))}\n",
    "        except:\n",
    "            return traceback"
   ]
  },
  {
   "cell_type": "markdown",
   "metadata": {},
   "source": [
    " - 内部启动类"
   ]
  },
  {
   "cell_type": "code",
   "execution_count": 5,
   "metadata": {
    "collapsed": true
   },
   "outputs": [],
   "source": [
    "urls = ('/webapplication',webapplication) #设置启动路劲"
   ]
  },
  {
   "cell_type": "code",
   "execution_count": null,
   "metadata": {
    "collapsed": false
   },
   "outputs": [],
   "source": [
    "if __name__ == '__main__':\n",
    "    app =web.application(urls,globals(),autoreload = True)\n",
    "    app.run()"
   ]
  },
  {
   "cell_type": "markdown",
   "metadata": {},
   "source": [
    "## web服务的启动\n",
    " - 默认端口启动：python code.py http://0.0.0.0:8080/\n",
    " - 非默认端口启动:python code.py 1234"
   ]
  },
  {
   "cell_type": "code",
   "execution_count": null,
   "metadata": {
    "collapsed": true
   },
   "outputs": [],
   "source": [
    "# import os\n",
    "# os.getcwd()\n",
    "# os.system('setsid python sum.py 8889')#"
   ]
  },
  {
   "cell_type": "markdown",
   "metadata": {},
   "source": [
    "- 注意不能在同一线程中执行，因为要守护（setsid后还是要守护）"
   ]
  },
  {
   "cell_type": "markdown",
   "metadata": {},
   "source": [
    "## web服务测试"
   ]
  },
  {
   "cell_type": "code",
   "execution_count": 28,
   "metadata": {
    "collapsed": false
   },
   "outputs": [
    {
     "name": "stdout",
     "output_type": "stream",
     "text": [
      "{'data': 200}\n"
     ]
    }
   ],
   "source": [
    "\n",
    "url =\"http://0.0.0.0:8889/webapplication\"\n",
    "import requests\n",
    "import urllib\n",
    "import json\n",
    "data =json.dumps({'x':100,'y':100})\n",
    "req  = requests.session().post(url,data =data)\n",
    "print req.text"
   ]
  },
  {
   "cell_type": "markdown",
   "metadata": {},
   "source": [
    "## more source"
   ]
  },
  {
   "cell_type": "markdown",
   "metadata": {},
   "source": [
    " - [tutorial3&api&cookbook](http://webpy.org/tutorial3.zh-cn#getpost)\n",
    " - [网络编程-提交表单与展示表单](http://www.cnblogs.com/xiaowuyi/archive/2012/11/15/2771099.html)\n",
    " - [cookbook-这本书讲的细](http://webpy.org/cookbook/index.zh-cn)"
   ]
  }
 ],
 "metadata": {
  "kernelspec": {
   "display_name": "Python 2",
   "language": "python",
   "name": "python2"
  },
  "language_info": {
   "codemirror_mode": {
    "name": "ipython",
    "version": 2
   },
   "file_extension": ".py",
   "mimetype": "text/x-python",
   "name": "python",
   "nbconvert_exporter": "python",
   "pygments_lexer": "ipython2",
   "version": "2.7.12"
  }
 },
 "nbformat": 4,
 "nbformat_minor": 0
}
